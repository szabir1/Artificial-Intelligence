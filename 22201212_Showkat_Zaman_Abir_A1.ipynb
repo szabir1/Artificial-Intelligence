{
  "nbformat": 4,
  "nbformat_minor": 0,
  "metadata": {
    "colab": {
      "provenance": []
    },
    "kernelspec": {
      "name": "python3",
      "display_name": "Python 3"
    },
    "language_info": {
      "name": "python"
    }
  },
  "cells": [
    {
      "cell_type": "code",
      "execution_count": null,
      "metadata": {
        "colab": {
          "base_uri": "https://localhost:8080/"
        },
        "id": "L29QDbe7lIrS",
        "outputId": "0a424356-14af-4310-9490-64f2abc3cba6"
      },
      "outputs": [
        {
          "output_type": "stream",
          "name": "stdout",
          "text": [
            "28\n",
            "RRRDDRRRRRDDDRRDDDRRDDLDDRRR\n"
          ]
        }
      ],
      "source": [
        "import heapq\n",
        "\n",
        "def m_distance(point1, point2):\n",
        "    return abs(point1[0] - point2[0]) + abs(point1[1] - point2[1])\n",
        "\n",
        "def a_star(maze, start, goal):\n",
        "    n, m = len(maze), len(maze[0])  #denoting my rows and colums\n",
        "    open_set = []\n",
        "    heapq.heappush(open_set, (0, start))  # (my actual cost, point)\n",
        "    came_from = {}\n",
        "    actual_cost = {start: 0}\n",
        "    total_cost = {start: m_distance(start, goal)}  # my total cost with heuristic\n",
        "\n",
        "    directions = {\n",
        "        (0, 1): 'R',\n",
        "        (0, -1): 'L',\n",
        "        (1, 0): 'D',\n",
        "        (-1, 0): 'U'\n",
        "    }\n",
        "\n",
        "    while open_set:\n",
        "        current = heapq.heappop(open_set)[1]\n",
        "\n",
        "        if current == goal:\n",
        "            return reconstruct_path(came_from, current, directions), actual_cost[current]\n",
        "\n",
        "        for direction, action in directions.items():\n",
        "            neighbor = (current[0] + direction[0], current[1] + direction[1])\n",
        "\n",
        "            if 0 <= neighbor[0] < n and 0 <= neighbor[1] < m and maze[neighbor[0]][neighbor[1]] == '0':\n",
        "                tentative_actual_cost = actual_cost[current] + 1\n",
        "\n",
        "                if neighbor not in actual_cost or tentative_actual_cost < actual_cost[neighbor]:\n",
        "                    came_from[neighbor] = current\n",
        "                    actual_cost[neighbor] = tentative_actual_cost\n",
        "                    total_cost[neighbor] = tentative_actual_cost + m_distance(neighbor, goal)\n",
        "\n",
        "                    if neighbor not in [i[1] for i in open_set]:\n",
        "                        heapq.heappush(open_set, (total_cost[neighbor], neighbor))\n",
        "\n",
        "    return -1, -1\n",
        "\n",
        "def reconstruct_path(came_from, current, directions):\n",
        "    total_path = []\n",
        "    while current in came_from:\n",
        "        prev = came_from[current]\n",
        "        for direction, action in directions.items():\n",
        "            if (prev[0] + direction[0], prev[1] + direction[1]) == current:\n",
        "                total_path.append(action)\n",
        "                break\n",
        "        current = prev\n",
        "    total_path.reverse()\n",
        "    return ''.join(total_path)\n",
        "\n",
        "with open(\"input3.txt\", \"r\") as f:\n",
        "    n, m = map(int, f.readline().split())\n",
        "    a, b = map(int, f.readline().split())\n",
        "    c, d = map(int, f.readline().split())\n",
        "    maze = [f.readline().strip() for _ in range(n)]\n",
        "\n",
        "start = (a, b)\n",
        "goal = (c, d)\n",
        "path, cost = a_star(maze, start, goal)\n",
        "\n",
        "if path == -1:\n",
        "    print(-1)\n",
        "else:\n",
        "    print(cost)\n",
        "    print(path)\n",
        "\n",
        "\n"
      ]
    },
    {
      "cell_type": "code",
      "source": [
        "maze_data = \"\"\"15 15\n",
        "1 0\n",
        "13 14\n",
        "###############\n",
        "0000#########0#\n",
        "###0#####00##0#\n",
        "#00000000#0##0#\n",
        "#0######0####0#\n",
        "#0######0#0##0#\n",
        "#0000000000000#\n",
        "##########0####\n",
        "#0######000####\n",
        "#0######000000#\n",
        "#0##########00#\n",
        "#0000000000000#\n",
        "###0#######0###\n",
        "#00000000000000\n",
        "###############\"\"\"\n",
        "\n",
        "with open('input3.txt', 'w') as f:\n",
        "    f.write(maze_data)"
      ],
      "metadata": {
        "id": "_0Gj2fj-SpbI"
      },
      "execution_count": null,
      "outputs": []
    },
    {
      "cell_type": "code",
      "source": [
        "from collections import deque, defaultdict\n",
        "\n",
        "def bfs_shortest_distance(graph, start, goal):\n",
        "    if start not in graph or goal not in graph:\n",
        "        return {}\n",
        "\n",
        "    distances = {start: 0}\n",
        "    queue = deque([start])\n",
        "\n",
        "    while queue:\n",
        "        current = queue.popleft()\n",
        "\n",
        "        for neighbor in graph[current]:\n",
        "            if neighbor not in distances:\n",
        "                distances[neighbor] = distances[current] + 1\n",
        "                queue.append(neighbor)\n",
        "                if neighbor == goal:\n",
        "                    return distances\n",
        "    return distances\n",
        "\n",
        "def check_heuristic_admissibility(input_file):\n",
        "    with open(input_file, 'r') as f:\n",
        "        lines = [line.strip() for line in f.readlines() if line.strip()]\n",
        "\n",
        "    n, m = map(int, lines[0].split())\n",
        "    a, b = map(int, lines[1].split())\n",
        "\n",
        "    heuristics = {}\n",
        "    for line in lines[2:2+n]:\n",
        "        x, y = map(int, line.split())\n",
        "        heuristics[x] = y\n",
        "\n",
        "    edges = []  # if any remaining lines exists\n",
        "    for line in lines[2+n:2+n+m]:\n",
        "        u, v = map(int, line.split())\n",
        "        edges.append((u, v))\n",
        "\n",
        "    graph = defaultdict(list)  #my graph construction\n",
        "    for u, v in edges:\n",
        "        graph[u].append(v)\n",
        "        graph[v].append(u)\n",
        "\n",
        "    actual_distances = bfs_shortest_distance(graph, b, b)  # Calculate from goal to all nodes\n",
        "\n",
        "    inadmissible_nodes = []  #my admisibility\n",
        "    for node in range(1, n+1):\n",
        "        if node not in actual_distances:\n",
        "            if heuristics.get(node, 0) > 0:\n",
        "                inadmissible_nodes.append(node)\n",
        "        elif heuristics.get(node, 0) > actual_distances[node]:\n",
        "            inadmissible_nodes.append(node)\n",
        "\n",
        "    if not inadmissible_nodes:\n",
        "        print(\"1\")\n",
        "        print(\"The heuristic values are admissible.\")\n",
        "    else:\n",
        "        print(f\"0 \\nHere nodes: {', '.join(map(str, inadmissible_nodes))} are inadmissible\")\n",
        "\n",
        "if __name__ == \"__main__\":\n",
        "    input_file = \"input_file_part2.txt\"\n",
        "    check_heuristic_admissibility(input_file)"
      ],
      "metadata": {
        "colab": {
          "base_uri": "https://localhost:8080/"
        },
        "id": "-VgWe9OYkS2M",
        "outputId": "f0e0a8d9-804b-48d5-ddb2-53460ca671fb"
      },
      "execution_count": null,
      "outputs": [
        {
          "output_type": "stream",
          "name": "stdout",
          "text": [
            "0 \n",
            "Here nodes: 1, 2, 3, 4, 5 are inadmissible\n"
          ]
        }
      ]
    },
    {
      "cell_type": "code",
      "source": [
        "Graph_data=\"\"\"6 7\n",
        "1 6\n",
        "\n",
        "1 6\n",
        "2 4\n",
        "3 2\n",
        "4 5\n",
        "5 2\n",
        "6 0\n",
        "\n",
        "1 2\n",
        "2 3\n",
        "3 6\n",
        "1 4\n",
        "4 5\n",
        "5 6\n",
        "3 5\"\"\"\n",
        "with open('input_file_part2.txt', 'w') as f:\n",
        "    f.write(Graph_data)"
      ],
      "metadata": {
        "id": "w4LR2EYJk2X4"
      },
      "execution_count": null,
      "outputs": []
    }
  ]
}